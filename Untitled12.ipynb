{
  "nbformat": 4,
  "nbformat_minor": 0,
  "metadata": {
    "colab": {
      "provenance": [],
      "authorship_tag": "ABX9TyO+MrTxGxUYEeWJ5LA+p7Oj",
      "include_colab_link": true
    },
    "kernelspec": {
      "name": "python3",
      "display_name": "Python 3"
    },
    "language_info": {
      "name": "python"
    }
  },
  "cells": [
    {
      "cell_type": "markdown",
      "metadata": {
        "id": "view-in-github",
        "colab_type": "text"
      },
      "source": [
        "<a href=\"https://colab.research.google.com/github/KasukurthiAbraham/KasukurthiAbraham/blob/main/Untitled12.ipynb\" target=\"_parent\"><img src=\"https://colab.research.google.com/assets/colab-badge.svg\" alt=\"Open In Colab\"/></a>"
      ]
    },
    {
      "cell_type": "code",
      "execution_count": 1,
      "metadata": {
        "colab": {
          "base_uri": "https://localhost:8080/"
        },
        "id": "fAxdXNW-VCX5",
        "outputId": "7f36abe3-f42d-4f46-ceb0-166b9686330b"
      },
      "outputs": [
        {
          "output_type": "stream",
          "name": "stdout",
          "text": [
            "descending order: [90, 64, 34, 25, 22, 12, 11]\n"
          ]
        }
      ],
      "source": [
        "# Input: List of numbers\n",
        "numbers = [64, 34, 25, 12, 22, 11, 90]\n",
        "\n",
        "# Bubble sort algorithm to sort the list in descending order\n",
        "for i in range(len(numbers)):\n",
        "    # Traverse the list from 0 to len(numbers) - i - 1\n",
        "    for j in range(0, len(numbers) - i - 1):\n",
        "        # Swap if the element found is smaller than the next element\n",
        "        if numbers[j] < numbers[j + 1]:\n",
        "            numbers[j], numbers[j + 1] = numbers[j + 1], numbers[j]\n",
        "\n",
        "# Output the sorted list\n",
        "print(\"descending order:\", numbers)"
      ]
    }
  ]
}