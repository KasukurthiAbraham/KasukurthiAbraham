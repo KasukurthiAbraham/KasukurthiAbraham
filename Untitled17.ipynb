{
  "nbformat": 4,
  "nbformat_minor": 0,
  "metadata": {
    "colab": {
      "provenance": [],
      "authorship_tag": "ABX9TyPZx0rTIj/mYIBqBRnvI1lY",
      "include_colab_link": true
    },
    "kernelspec": {
      "name": "python3",
      "display_name": "Python 3"
    },
    "language_info": {
      "name": "python"
    }
  },
  "cells": [
    {
      "cell_type": "markdown",
      "metadata": {
        "id": "view-in-github",
        "colab_type": "text"
      },
      "source": [
        "<a href=\"https://colab.research.google.com/github/KasukurthiAbraham/KasukurthiAbraham/blob/main/Untitled17.ipynb\" target=\"_parent\"><img src=\"https://colab.research.google.com/assets/colab-badge.svg\" alt=\"Open In Colab\"/></a>"
      ]
    },
    {
      "cell_type": "code",
      "source": [
        "\n",
        "import pandas as pd\n",
        "from datetime import datetime\n",
        "\n",
        "#Provided employee dataset\n",
        "data = {\n",
        "    'Name': ['Alice', 'Bob', 'Charlie', 'David', 'Eva', 'Frank'],\n",
        "    'Department': ['HR', 'IT', 'Finance', 'IT', 'HR', 'Finance'],\n",
        "    'Salary': [50000, 60000, 55000, 70000, 48000, 62000],\n",
        "    'Join_Date': ['2020-05-21', '2019-03-15', '2021-07-10', '2018-11-01', '2022-01-05', '2017-09-12', ]\n",
        "}\n",
        "\n",
        "#Load the dictionary into a pandas DataFrame\n",
        "df = pd.DataFrame(data)\n",
        "\n",
        "#Convert Join_Date to datetime format\n",
        "df['Join_Date'] = pd.to_datetime(df['Join_Date'])\n",
        "\n",
        "#Display names of employees who joined after January 1, 2020\n",
        "print(\"Employees who joined after January 1, 2020:\")\n",
        "print(df[df['Join_Date'] > '2020-01-01']['Name'])\n",
        "\n",
        "#Calculate average salary for each department\n",
        "avg_salary_dept = df.groupby('Department')['Salary'].mean()\n",
        "print(\"\\nAverage salary by department:\")\n",
        "print(avg_salary_dept)\n",
        "\n",
        "#Identify department with highest average salary\n",
        "max_avg_salary_dept = avg_salary_dept.idxmax()\n",
        "print(f\"\\nDepartment with highest average salary: {max_avg_salary_dept}\")\n",
        "\n",
        "#Add new column Years_with_Company\n",
        "today = datetime.today()\n",
        "df['Years_with_Company'] = (today - df['Join_Date']).dt.days // 365\n",
        "\n",
        "#Sort DataFrame by Years_with_Company in descending order\n",
        "df_sorted = df.sort_values(by='Years_with_Company', ascending=False)\n",
        "\n",
        "#Save updated DataFrame to new CSV file\n",
        "df_sorted.to_csv('updated_employees.csv', index=False)"
      ],
      "metadata": {
        "colab": {
          "base_uri": "https://localhost:8080/"
        },
        "id": "dZGG9kQKjVsX",
        "outputId": "8868b1cf-6ec1-424e-ee39-ba3d9233db60"
      },
      "execution_count": null,
      "outputs": [
        {
          "output_type": "stream",
          "name": "stdout",
          "text": [
            "Employees who joined after January 1, 2020:\n",
            "0      Alice\n",
            "2    Charlie\n",
            "4        Eva\n",
            "Name: Name, dtype: object\n",
            "\n",
            "Average salary by department:\n",
            "Department\n",
            "Finance    58500.0\n",
            "HR         49000.0\n",
            "IT         65000.0\n",
            "Name: Salary, dtype: float64\n",
            "\n",
            "Department with highest average salary: IT\n"
          ]
        }
      ]
    }
  ]
}