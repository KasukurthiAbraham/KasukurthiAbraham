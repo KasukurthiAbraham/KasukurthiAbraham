{
  "nbformat": 4,
  "nbformat_minor": 0,
  "metadata": {
    "colab": {
      "provenance": [],
      "authorship_tag": "ABX9TyMwknc+bv5Tq1cL3tKKJ0rl",
      "include_colab_link": true
    },
    "kernelspec": {
      "name": "python3",
      "display_name": "Python 3"
    },
    "language_info": {
      "name": "python"
    }
  },
  "cells": [
    {
      "cell_type": "markdown",
      "metadata": {
        "id": "view-in-github",
        "colab_type": "text"
      },
      "source": [
        "<a href=\"https://colab.research.google.com/github/KasukurthiAbraham/KasukurthiAbraham/blob/main/ascending%20order.ipynb\" target=\"_parent\"><img src=\"https://colab.research.google.com/assets/colab-badge.svg\" alt=\"Open In Colab\"/></a>"
      ]
    },
    {
      "cell_type": "code",
      "source": [
        "numbers = [60, 50, 40, 20, 80, 70, 30, 10]\n",
        "n = len(numbers)\n",
        "for i in range(n):\n",
        "    for j in range(0, n-i-1):\n",
        "        if numbers[j] > numbers[j + 1]:\n",
        "            numbers[j], numbers[j + 1] = numbers[j + 1], numbers[j]\n",
        "print(\"list in ascending order:\")\n",
        "print(numbers)"
      ],
      "metadata": {
        "id": "Fkz7baRkchqE",
        "colab": {
          "base_uri": "https://localhost:8080/"
        },
        "outputId": "fd64ad51-ce7d-4cbf-a34c-85c80dc77e17"
      },
      "execution_count": 1,
      "outputs": [
        {
          "output_type": "stream",
          "name": "stdout",
          "text": [
            "list in ascending order:\n",
            "[10, 20, 30, 40, 50, 60, 70, 80]\n"
          ]
        }
      ]
    }
  ]
}